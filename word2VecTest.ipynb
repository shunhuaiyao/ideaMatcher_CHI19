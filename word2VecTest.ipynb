{
 "cells": [
  {
   "cell_type": "code",
   "execution_count": 2,
   "metadata": {},
   "outputs": [],
   "source": [
    "from gensim.models import KeyedVectors\n",
    "en_model = KeyedVectors.load_word2vec_format('wiki.en/wiki.en.vec')"
   ]
  },
  {
   "cell_type": "code",
   "execution_count": 21,
   "metadata": {},
   "outputs": [
    {
     "name": "stdout",
     "output_type": "stream",
     "text": [
      "300\n",
      "Word: esteems, Similarity: 0.74\n",
      "Word: esteeming, Similarity: 0.68\n",
      "Word: assertiveness, Similarity: 0.66\n",
      "Word: esteem,, Similarity: 0.65\n",
      "Word: admirational, Similarity: 0.62\n",
      "Word: empathy, Similarity: 0.62\n",
      "Word: affection, Similarity: 0.61\n",
      "Word: supportiveness, Similarity: 0.60\n",
      "Word: powerlessness, Similarity: 0.60\n",
      "Word: selflessness, Similarity: 0.60\n"
     ]
    }
   ],
   "source": [
    "# show dimension of vector\n",
    "print(\"Dimension of vector:\", en_model.vector_size)\n",
    "\n",
    "# Pick a word \n",
    "find_similar_to = 'esteem'\n",
    "\n",
    "# Finding out similar words [default= top 10]\n",
    "for similar_word in en_model.similar_by_word(find_similar_to):\n",
    "    print(\"Word: {0}, Similarity: {1:.2f}\".format(\n",
    "        similar_word[0], similar_word[1]\n",
    "    ))"
   ]
  },
  {
   "cell_type": "code",
   "execution_count": 44,
   "metadata": {},
   "outputs": [
    {
     "name": "stdout",
     "output_type": "stream",
     "text": [
      "Similarity: [0.87302684]\n"
     ]
    }
   ],
   "source": [
    "# compare two sentence vectors by cosine similarity\n",
    "\n",
    "import numpy as np\n",
    "\n",
    "sentence1 = \"ex women who had breast cancer each level of severity\"\n",
    "sentence2 = \"research on women who had breast cancer women mainly compared themselves to the women at the next level down worse off at least I did not lose my breasts\"\n",
    "lenSentence1 = 0\n",
    "lenSentence2 = 0\n",
    "sentenceVec1 = np.array([0.0 for x in range(en_model.vector_size)])\n",
    "sentenceVec2 = np.array([0.0 for x in range(en_model.vector_size)])\n",
    "for word in sentence1.split():\n",
    "    if word in en_model.vocab:\n",
    "        lenSentence1 +=1\n",
    "        sentenceVec1 = np.add(sentenceVec1, en_model[word])\n",
    "sentenceVec1 = np.true_divide(sentenceVec1, lenSentence1)\n",
    "for word in sentence2.split():\n",
    "    if word in en_model.vocab:\n",
    "        lenSentence2 +=1\n",
    "        sentenceVec2 = np.add(sentenceVec2, en_model[word])\n",
    "sentenceVec2 = np.true_divide(sentenceVec2, lenSentence2)\n",
    "\n",
    "print(\"Similarity:\", en_model.cosine_similarities(sentenceVec1, np.array([sentenceVec2])))"
   ]
  },
  {
   "cell_type": "code",
   "execution_count": null,
   "metadata": {},
   "outputs": [],
   "source": []
  }
 ],
 "metadata": {
  "kernelspec": {
   "display_name": "ideaMatcher",
   "language": "python",
   "name": "ideamatcher"
  },
  "language_info": {
   "codemirror_mode": {
    "name": "ipython",
    "version": 3
   },
   "file_extension": ".py",
   "mimetype": "text/x-python",
   "name": "python",
   "nbconvert_exporter": "python",
   "pygments_lexer": "ipython3",
   "version": "3.7.1"
  }
 },
 "nbformat": 4,
 "nbformat_minor": 2
}
